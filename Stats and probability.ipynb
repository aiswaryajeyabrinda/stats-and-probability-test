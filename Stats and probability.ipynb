{
 "cells": [
  {
   "cell_type": "markdown",
   "id": "c65332c3",
   "metadata": {},
   "source": [
    "# Question 1"
   ]
  },
  {
   "cell_type": "markdown",
   "id": "a8be2647",
   "metadata": {},
   "source": [
    "p(a) = probability of diamond card in first draw p(b)=probability of heart card in second draw p(c) = probability of spade cade in third draw"
   ]
  },
  {
   "cell_type": "code",
   "execution_count": 1,
   "id": "6786a446",
   "metadata": {},
   "outputs": [
    {
     "name": "stdout",
     "output_type": "stream",
     "text": [
      "The total probability is: 0.01656862745098039\n"
     ]
    }
   ],
   "source": [
    "pa=13/52\n",
    "pb=13/51\n",
    "pc=13/50\n",
    "p=pa*pb*pc\n",
    "print(\"The total probability is:\",p)"
   ]
  },
  {
   "cell_type": "markdown",
   "id": "8aea887a",
   "metadata": {},
   "source": [
    "# Question 2"
   ]
  },
  {
   "cell_type": "markdown",
   "id": "143e3793",
   "metadata": {},
   "source": [
    "p(a) = probability of linking action movies\n",
    "p(c) = probability of linking comedy movies\n",
    "p(d) = probability of linking drama movies\n",
    "p(h) = probability of linking horror movies\n",
    "p(A) = probability of either action or drama\n",
    "p(B) = probability of either comedy or horror"
   ]
  },
  {
   "cell_type": "code",
   "execution_count": 3,
   "id": "66475513",
   "metadata": {},
   "outputs": [
    {
     "name": "stdout",
     "output_type": "stream",
     "text": [
      "probability of either action or drama: 0.78\n",
      "probability of either comedy or horror: 0.66\n"
     ]
    }
   ],
   "source": [
    "pa=42/100\n",
    "pc=54/100\n",
    "pd=36/100\n",
    "ph=12/100\n",
    "pA=pa+pd\n",
    "pB=pc+ph\n",
    "print(\"probability of either action or drama:\",pA)\n",
    "print(\"probability of either comedy or horror:\",pB)"
   ]
  },
  {
   "cell_type": "markdown",
   "id": "e011f8fc",
   "metadata": {},
   "source": [
    "# Question 3"
   ]
  },
  {
   "cell_type": "markdown",
   "id": "2aba0eea",
   "metadata": {},
   "source": [
    "BagA = 3 red,5 black\n",
    "\n",
    "BagB = 4 white,7 black\n",
    "\n",
    "p(A) = p(B) = 1/2\n",
    "\n",
    "p(B/A) = probability of black ball from BagA = 5/8\n",
    "\n",
    "p(B/B) = 7/11\n",
    "\n",
    "p(B/B) = probability of black ball from BagB\n",
    "\n",
    "       =(p(B)*p(B/B)) / (p(A)*p(B/A)+p(B)*p(B/B))\n",
    "       \n",
    "       =(1/2 * 7/11) / (1/2 * 5/8 +1/2 *7/11)\n",
    "       \n",
    "       =(7/22) / (5/8 + 5/16)\n",
    "       \n",
    "       =28/55\n",
    "       \n",
    "       =0.509"
   ]
  },
  {
   "cell_type": "markdown",
   "id": "ffe4b6bb",
   "metadata": {},
   "source": [
    "# Question 4"
   ]
  },
  {
   "cell_type": "markdown",
   "id": "3d0aa2cb",
   "metadata": {},
   "source": [
    "Given : 450 application in 1 hour\n",
    "\n",
    "-by poisson distribution\n",
    "\n",
    "a.) Receving 10 applications in 1 minute\n",
    "\n",
    "        lambda = 450/60\n",
    "        \n",
    "        lambda = 15/2  ,   x = 10\n",
    "        \n",
    "        p(X = x) = e**(-15/2).(15/2)**10 / 10!\n",
    "        \n",
    "                 = 0.0858\n",
    "                 \n",
    "b.) Receving atleast 17 applications in 2 minutes\n",
    "\n",
    "        p(X = x) = e**(-15/2).(15/2)**17 / 17!\n",
    "        \n",
    "                 = 0.6321"
   ]
  },
  {
   "cell_type": "markdown",
   "id": "db94606d",
   "metadata": {},
   "source": [
    "# Question 6"
   ]
  },
  {
   "cell_type": "markdown",
   "id": "9e048e77",
   "metadata": {},
   "source": [
    "z = (x-mu) / sigma\n",
    "\n",
    "0.675 = (x-350870) / 12405\n",
    "\n",
    "x = 350870 + (0.675 * 12405)\n",
    "\n",
    "x = 359237.045\n",
    "\n",
    "75th percentile = 359237.045"
   ]
  },
  {
   "cell_type": "markdown",
   "id": "60874361",
   "metadata": {},
   "source": [
    "# Question 9"
   ]
  },
  {
   "cell_type": "code",
   "execution_count": 4,
   "id": "2e90ddbf",
   "metadata": {},
   "outputs": [
    {
     "name": "stdout",
     "output_type": "stream",
     "text": [
      "0.040177141568228006\n"
     ]
    }
   ],
   "source": [
    "from scipy.stats import poisson\n",
    "prob=poisson.pmf(k=80,mu=76)\n",
    "print(prob)"
   ]
  },
  {
   "cell_type": "markdown",
   "id": "9b001ad4",
   "metadata": {},
   "source": [
    "# Question 7"
   ]
  },
  {
   "cell_type": "code",
   "execution_count": 5,
   "id": "3d50ece1",
   "metadata": {},
   "outputs": [
    {
     "name": "stdout",
     "output_type": "stream",
     "text": [
      "F-STATISTIC is  : 0.9921235138705414\n"
     ]
    }
   ],
   "source": [
    "UC=[44,21,36,34,77,32,29,39,92,67,45,37]\n",
    "MV=[47,81,41,79,38,20,33,83,41,40,69,36]\n",
    "import numpy as np\n",
    "x = np.array(UC)\n",
    "y = np.array(MV)\n",
    "f = np.var(x, ddof=1)/np.var(y, ddof=1)\n",
    "print(\"F-STATISTIC is  :\",f)"
   ]
  },
  {
   "cell_type": "markdown",
   "id": "53ed1483",
   "metadata": {},
   "source": [
    "#  Question 5"
   ]
  },
  {
   "cell_type": "markdown",
   "id": "bfc7bd95",
   "metadata": {},
   "source": [
    "a.) In every year, there can be at most one patient who needs medical insurance in a family\n",
    "\n",
    "b.) Likewise., In every year, the probability of a medical emergency is 0.05 \n",
    "\n",
    "c.) The number of patients in every years period in one family\n",
    "\n",
    "3 patients in 10 years in one family\n",
    "\n",
    "Fewer than 3 patients s means all the cases where you don’t get 3 patient. If the cases where you get 3 patients is T% then the cases when you don't get 3 patients is - 100% - T%\n",
    "\n",
    "P(3 patients) = P(patients)^3 = 1/8 → T% = 12.5% → %(fewer than 3 patients) = 87.5%\n",
    "\n",
    "Even in case you have more than 3 patients\n",
    "\n",
    "P(“fewer than 3 patients”) = P(0 patients) + P(1 patient) + P(2 patients)"
   ]
  },
  {
   "cell_type": "markdown",
   "id": "93d3b314",
   "metadata": {},
   "source": [
    "# Question 10"
   ]
  },
  {
   "cell_type": "code",
   "execution_count": 7,
   "id": "3a6bd46a",
   "metadata": {},
   "outputs": [
    {
     "name": "stdout",
     "output_type": "stream",
     "text": [
      "Yes, protein supplier affect the diet\n"
     ]
    }
   ],
   "source": [
    "before = [82 for j in range(25)]\n",
    "after = [95 for i in range(25)]\n",
    "from scipy.stats import ttest_ind\n",
    "if ttest_ind(before,after)[-1] <= 0.05 :\n",
    "    print('Yes, protein supplier affect the diet')\n",
    "else:\n",
    "    print('No, protein supplier did not affect diet')"
   ]
  },
  {
   "cell_type": "code",
   "execution_count": null,
   "id": "4136443e",
   "metadata": {},
   "outputs": [],
   "source": []
  }
 ],
 "metadata": {
  "kernelspec": {
   "display_name": "Python 3 (ipykernel)",
   "language": "python",
   "name": "python3"
  },
  "language_info": {
   "codemirror_mode": {
    "name": "ipython",
    "version": 3
   },
   "file_extension": ".py",
   "mimetype": "text/x-python",
   "name": "python",
   "nbconvert_exporter": "python",
   "pygments_lexer": "ipython3",
   "version": "3.9.7"
  }
 },
 "nbformat": 4,
 "nbformat_minor": 5
}
